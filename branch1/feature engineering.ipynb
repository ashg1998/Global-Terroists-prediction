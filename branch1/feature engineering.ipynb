{
 "cells": [
  {
   "cell_type": "code",
   "execution_count": 1,
   "metadata": {},
   "outputs": [],
   "source": [
    "import pandas as pd\n",
    "import numpy as np\n"
   ]
  },
  {
   "cell_type": "code",
   "execution_count": 2,
   "metadata": {},
   "outputs": [],
   "source": [
    "dataset=pd.read_excel('terr_data.xlsm')"
   ]
  },
  {
   "cell_type": "code",
   "execution_count": 5,
   "metadata": {},
   "outputs": [],
   "source": [
    "l=dataset['gname'].value_counts(sort=True)"
   ]
  },
  {
   "cell_type": "code",
   "execution_count": 6,
   "metadata": {},
   "outputs": [
    {
     "data": {
      "text/plain": [
       "Unknown                                                            12210\n",
       "Taliban                                                             4900\n",
       "Islamic State of Iraq and the Levant (ISIL)                         4273\n",
       "Al-Shabaab                                                          2350\n",
       "Boko Haram                                                          1921\n",
       "                                                                   ...  \n",
       "Tehrik-e-Hurriyat (TeH)                                                1\n",
       "Zawiya Martyrs Brigade                                                 1\n",
       "Niger Delta Justice Defense Group (NDJDG)                              1\n",
       "Lone Wolves of Radical, Autonomous, Militant National Socialism        1\n",
       "Liwa al-Haqq                                                           1\n",
       "Name: gname, Length: 769, dtype: int64"
      ]
     },
     "execution_count": 6,
     "metadata": {},
     "output_type": "execute_result"
    }
   ],
   "source": [
    "l"
   ]
  },
  {
   "cell_type": "code",
   "execution_count": 27,
   "metadata": {},
   "outputs": [],
   "source": [
    "dataset['gname']=dataset['gname'].mask(dataset['gname'].map(dataset['gname'].value_counts(normalize=True))<0.01,\"others\")"
   ]
  },
  {
   "cell_type": "code",
   "execution_count": 28,
   "metadata": {},
   "outputs": [],
   "source": [
    "l=dataset['gname'].value_counts()"
   ]
  },
  {
   "cell_type": "code",
   "execution_count": 29,
   "metadata": {},
   "outputs": [
    {
     "data": {
      "text/plain": [
       "others                                         20182\n",
       "Unknown                                        12210\n",
       "Taliban                                         4900\n",
       "Islamic State of Iraq and the Levant (ISIL)     4273\n",
       "Al-Shabaab                                      2350\n",
       "Name: gname, dtype: int64"
      ]
     },
     "execution_count": 29,
     "metadata": {},
     "output_type": "execute_result"
    }
   ],
   "source": [
    "l"
   ]
  },
  {
   "cell_type": "code",
   "execution_count": 30,
   "metadata": {
    "scrolled": true
   },
   "outputs": [
    {
     "data": {
      "text/html": [
       "<div>\n",
       "<style scoped>\n",
       "    .dataframe tbody tr th:only-of-type {\n",
       "        vertical-align: middle;\n",
       "    }\n",
       "\n",
       "    .dataframe tbody tr th {\n",
       "        vertical-align: top;\n",
       "    }\n",
       "\n",
       "    .dataframe thead th {\n",
       "        text-align: right;\n",
       "    }\n",
       "</style>\n",
       "<table border=\"1\" class=\"dataframe\">\n",
       "  <thead>\n",
       "    <tr style=\"text-align: right;\">\n",
       "      <th></th>\n",
       "      <th>iyear</th>\n",
       "      <th>imonth</th>\n",
       "      <th>iday</th>\n",
       "      <th>country_txt</th>\n",
       "      <th>city</th>\n",
       "      <th>attacktype1_txt</th>\n",
       "      <th>targtype1_txt</th>\n",
       "      <th>corp1</th>\n",
       "      <th>target1</th>\n",
       "      <th>natlty1_txt</th>\n",
       "      <th>gname</th>\n",
       "      <th>weaptype1_txt</th>\n",
       "      <th>weapsubtype1_txt</th>\n",
       "      <th>weapdetail</th>\n",
       "      <th>nkill</th>\n",
       "      <th>nwound</th>\n",
       "      <th>propextent_txt</th>\n",
       "      <th>ransomamt</th>\n",
       "    </tr>\n",
       "  </thead>\n",
       "  <tbody>\n",
       "    <tr>\n",
       "      <td>0</td>\n",
       "      <td>2012</td>\n",
       "      <td>1</td>\n",
       "      <td>1</td>\n",
       "      <td>Kenya</td>\n",
       "      <td>Garissa</td>\n",
       "      <td>Armed Assault</td>\n",
       "      <td>Business</td>\n",
       "      <td>Locus Pub</td>\n",
       "      <td>Bar</td>\n",
       "      <td>Kenya</td>\n",
       "      <td>Al-Shabaab</td>\n",
       "      <td>Explosives/Bombs/Dynamite</td>\n",
       "      <td>Grenade</td>\n",
       "      <td>Two grenades and AK-47 assault rifles were use...</td>\n",
       "      <td>3.0</td>\n",
       "      <td>14.0</td>\n",
       "      <td>Minor (likely &lt; $1 million)</td>\n",
       "      <td>NaN</td>\n",
       "    </tr>\n",
       "    <tr>\n",
       "      <td>1</td>\n",
       "      <td>2012</td>\n",
       "      <td>1</td>\n",
       "      <td>1</td>\n",
       "      <td>Pakistan</td>\n",
       "      <td>Sui</td>\n",
       "      <td>Bombing/Explosion</td>\n",
       "      <td>Military</td>\n",
       "      <td>Frontier Corps (FC)</td>\n",
       "      <td>Soldiers</td>\n",
       "      <td>Pakistan</td>\n",
       "      <td>others</td>\n",
       "      <td>Explosives/Bombs/Dynamite</td>\n",
       "      <td>Land Mine</td>\n",
       "      <td>NaN</td>\n",
       "      <td>4.0</td>\n",
       "      <td>3.0</td>\n",
       "      <td>Minor (likely &lt; $1 million)</td>\n",
       "      <td>NaN</td>\n",
       "    </tr>\n",
       "    <tr>\n",
       "      <td>2</td>\n",
       "      <td>2012</td>\n",
       "      <td>1</td>\n",
       "      <td>1</td>\n",
       "      <td>Kenya</td>\n",
       "      <td>Garissa</td>\n",
       "      <td>Armed Assault</td>\n",
       "      <td>Business</td>\n",
       "      <td>Unknown</td>\n",
       "      <td>Bar</td>\n",
       "      <td>Kenya</td>\n",
       "      <td>Al-Shabaab</td>\n",
       "      <td>Explosives/Bombs/Dynamite</td>\n",
       "      <td>Grenade</td>\n",
       "      <td>NaN</td>\n",
       "      <td>2.0</td>\n",
       "      <td>14.0</td>\n",
       "      <td>Minor (likely &lt; $1 million)</td>\n",
       "      <td>NaN</td>\n",
       "    </tr>\n",
       "    <tr>\n",
       "      <td>3</td>\n",
       "      <td>2012</td>\n",
       "      <td>1</td>\n",
       "      <td>1</td>\n",
       "      <td>Afghanistan</td>\n",
       "      <td>Karez</td>\n",
       "      <td>Bombing/Explosion</td>\n",
       "      <td>Military</td>\n",
       "      <td>North Atlantic Treaty Organization (NATO): Int...</td>\n",
       "      <td>Vehicle</td>\n",
       "      <td>International</td>\n",
       "      <td>Taliban</td>\n",
       "      <td>Explosives/Bombs/Dynamite</td>\n",
       "      <td>Unknown Explosive Type</td>\n",
       "      <td>NaN</td>\n",
       "      <td>0.0</td>\n",
       "      <td>0.0</td>\n",
       "      <td>Unknown</td>\n",
       "      <td>NaN</td>\n",
       "    </tr>\n",
       "    <tr>\n",
       "      <td>4</td>\n",
       "      <td>2012</td>\n",
       "      <td>1</td>\n",
       "      <td>1</td>\n",
       "      <td>Democratic Republic of the Congo</td>\n",
       "      <td>Shabunda</td>\n",
       "      <td>Facility/Infrastructure Attack</td>\n",
       "      <td>Private Citizens &amp; Property</td>\n",
       "      <td>Not Applicable</td>\n",
       "      <td>Civilians</td>\n",
       "      <td>Democratic Republic of the Congo</td>\n",
       "      <td>others</td>\n",
       "      <td>Incendiary</td>\n",
       "      <td>Arson/Fire</td>\n",
       "      <td>NaN</td>\n",
       "      <td>18.0</td>\n",
       "      <td>5.0</td>\n",
       "      <td>Minor (likely &lt; $1 million)</td>\n",
       "      <td>NaN</td>\n",
       "    </tr>\n",
       "  </tbody>\n",
       "</table>\n",
       "</div>"
      ],
      "text/plain": [
       "   iyear  imonth  iday                       country_txt      city  \\\n",
       "0   2012       1     1                             Kenya   Garissa   \n",
       "1   2012       1     1                          Pakistan       Sui   \n",
       "2   2012       1     1                             Kenya   Garissa   \n",
       "3   2012       1     1                       Afghanistan     Karez   \n",
       "4   2012       1     1  Democratic Republic of the Congo  Shabunda   \n",
       "\n",
       "                  attacktype1_txt                targtype1_txt  \\\n",
       "0                   Armed Assault                     Business   \n",
       "1               Bombing/Explosion                     Military   \n",
       "2                   Armed Assault                     Business   \n",
       "3               Bombing/Explosion                     Military   \n",
       "4  Facility/Infrastructure Attack  Private Citizens & Property   \n",
       "\n",
       "                                               corp1    target1  \\\n",
       "0                                          Locus Pub        Bar   \n",
       "1                                Frontier Corps (FC)   Soldiers   \n",
       "2                                            Unknown        Bar   \n",
       "3  North Atlantic Treaty Organization (NATO): Int...    Vehicle   \n",
       "4                                     Not Applicable  Civilians   \n",
       "\n",
       "                        natlty1_txt       gname              weaptype1_txt  \\\n",
       "0                             Kenya  Al-Shabaab  Explosives/Bombs/Dynamite   \n",
       "1                          Pakistan      others  Explosives/Bombs/Dynamite   \n",
       "2                             Kenya  Al-Shabaab  Explosives/Bombs/Dynamite   \n",
       "3                     International     Taliban  Explosives/Bombs/Dynamite   \n",
       "4  Democratic Republic of the Congo      others                 Incendiary   \n",
       "\n",
       "         weapsubtype1_txt                                         weapdetail  \\\n",
       "0                 Grenade  Two grenades and AK-47 assault rifles were use...   \n",
       "1               Land Mine                                                NaN   \n",
       "2                 Grenade                                                NaN   \n",
       "3  Unknown Explosive Type                                                NaN   \n",
       "4              Arson/Fire                                                NaN   \n",
       "\n",
       "   nkill  nwound               propextent_txt  ransomamt  \n",
       "0    3.0    14.0  Minor (likely < $1 million)        NaN  \n",
       "1    4.0     3.0  Minor (likely < $1 million)        NaN  \n",
       "2    2.0    14.0  Minor (likely < $1 million)        NaN  \n",
       "3    0.0     0.0                      Unknown        NaN  \n",
       "4   18.0     5.0  Minor (likely < $1 million)        NaN  "
      ]
     },
     "execution_count": 30,
     "metadata": {},
     "output_type": "execute_result"
    }
   ],
   "source": [
    "dataset.head()"
   ]
  },
  {
   "cell_type": "code",
   "execution_count": 31,
   "metadata": {},
   "outputs": [],
   "source": [
    "categorical_feature=[feature for feature in dataset.columns if dataset[feature].dtypes== 'O']"
   ]
  },
  {
   "cell_type": "code",
   "execution_count": 37,
   "metadata": {},
   "outputs": [],
   "source": [
    "feature_with_na=[feature for feature in categorical_feature if dataset[feature].isnull().sum()>1]"
   ]
  },
  {
   "cell_type": "code",
   "execution_count": 39,
   "metadata": {},
   "outputs": [
    {
     "name": "stdout",
     "output_type": "stream",
     "text": [
      "natlty1_txt 0.013\n",
      "weapsubtype1_txt 0.104\n",
      "weapdetail 0.6132\n",
      "propextent_txt 0.6444\n"
     ]
    }
   ],
   "source": [
    "for feature in feature_with_na:\n",
    "    print(feature,np.round(dataset[feature].isnull().mean(),4))"
   ]
  },
  {
   "cell_type": "code",
   "execution_count": 40,
   "metadata": {},
   "outputs": [],
   "source": [
    "new_data=dataset.copy()"
   ]
  },
  {
   "cell_type": "code",
   "execution_count": 44,
   "metadata": {},
   "outputs": [
    {
     "data": {
      "text/plain": [
       "iyear                   0\n",
       "imonth                  0\n",
       "iday                    0\n",
       "country_txt             0\n",
       "city                    0\n",
       "attacktype1_txt         0\n",
       "targtype1_txt           0\n",
       "corp1                   0\n",
       "target1                 0\n",
       "natlty1_txt           573\n",
       "gname                   0\n",
       "weaptype1_txt           0\n",
       "weapsubtype1_txt     4569\n",
       "weapdetail          26930\n",
       "nkill                2625\n",
       "nwound               4602\n",
       "propextent_txt      28300\n",
       "ransomamt           43642\n",
       "dtype: int64"
      ]
     },
     "execution_count": 44,
     "metadata": {},
     "output_type": "execute_result"
    }
   ],
   "source": [
    "new_data.isnull().sum()"
   ]
  },
  {
   "cell_type": "code",
   "execution_count": 45,
   "metadata": {},
   "outputs": [],
   "source": [
    "new_data['natlty1_txt'].fillna(new_data['natlty1_txt'].value_counts().index[0],inplace=True)"
   ]
  },
  {
   "cell_type": "code",
   "execution_count": 47,
   "metadata": {},
   "outputs": [
    {
     "data": {
      "text/plain": [
       "iyear                   0\n",
       "imonth                  0\n",
       "iday                    0\n",
       "country_txt             0\n",
       "city                    0\n",
       "attacktype1_txt         0\n",
       "targtype1_txt           0\n",
       "corp1                   0\n",
       "target1                 0\n",
       "natlty1_txt             0\n",
       "gname                   0\n",
       "weaptype1_txt           0\n",
       "weapsubtype1_txt     4569\n",
       "weapdetail          26930\n",
       "nkill                2625\n",
       "nwound               4602\n",
       "propextent_txt      28300\n",
       "ransomamt           43642\n",
       "dtype: int64"
      ]
     },
     "execution_count": 47,
     "metadata": {},
     "output_type": "execute_result"
    }
   ],
   "source": [
    "new_data.isnull().sum()"
   ]
  },
  {
   "cell_type": "code",
   "execution_count": 48,
   "metadata": {},
   "outputs": [],
   "source": [
    "for feature  in feature_with_na:\n",
    "    dataset[feature].fillna(dataset[feature].value_counts().index[0],inplace=True)"
   ]
  },
  {
   "cell_type": "code",
   "execution_count": 51,
   "metadata": {},
   "outputs": [],
   "source": [
    "#dataset.isnull().sum()\n",
    "#dataset.head()"
   ]
  },
  {
   "cell_type": "code",
   "execution_count": 62,
   "metadata": {},
   "outputs": [],
   "source": [
    "numerical_feature=[feature for feature in dataset.columns if dataset[feature].dtypes!='O' and dataset[feature].isnull().sum()>1]"
   ]
  },
  {
   "cell_type": "code",
   "execution_count": 63,
   "metadata": {},
   "outputs": [
    {
     "data": {
      "text/html": [
       "<div>\n",
       "<style scoped>\n",
       "    .dataframe tbody tr th:only-of-type {\n",
       "        vertical-align: middle;\n",
       "    }\n",
       "\n",
       "    .dataframe tbody tr th {\n",
       "        vertical-align: top;\n",
       "    }\n",
       "\n",
       "    .dataframe thead th {\n",
       "        text-align: right;\n",
       "    }\n",
       "</style>\n",
       "<table border=\"1\" class=\"dataframe\">\n",
       "  <thead>\n",
       "    <tr style=\"text-align: right;\">\n",
       "      <th></th>\n",
       "      <th>nkill</th>\n",
       "      <th>nwound</th>\n",
       "      <th>ransomamt</th>\n",
       "    </tr>\n",
       "  </thead>\n",
       "  <tbody>\n",
       "    <tr>\n",
       "      <td>0</td>\n",
       "      <td>3.0</td>\n",
       "      <td>14.0</td>\n",
       "      <td>NaN</td>\n",
       "    </tr>\n",
       "    <tr>\n",
       "      <td>1</td>\n",
       "      <td>4.0</td>\n",
       "      <td>3.0</td>\n",
       "      <td>NaN</td>\n",
       "    </tr>\n",
       "    <tr>\n",
       "      <td>2</td>\n",
       "      <td>2.0</td>\n",
       "      <td>14.0</td>\n",
       "      <td>NaN</td>\n",
       "    </tr>\n",
       "    <tr>\n",
       "      <td>3</td>\n",
       "      <td>0.0</td>\n",
       "      <td>0.0</td>\n",
       "      <td>NaN</td>\n",
       "    </tr>\n",
       "    <tr>\n",
       "      <td>4</td>\n",
       "      <td>18.0</td>\n",
       "      <td>5.0</td>\n",
       "      <td>NaN</td>\n",
       "    </tr>\n",
       "    <tr>\n",
       "      <td>...</td>\n",
       "      <td>...</td>\n",
       "      <td>...</td>\n",
       "      <td>...</td>\n",
       "    </tr>\n",
       "    <tr>\n",
       "      <td>43910</td>\n",
       "      <td>15.0</td>\n",
       "      <td>7.0</td>\n",
       "      <td>NaN</td>\n",
       "    </tr>\n",
       "    <tr>\n",
       "      <td>43911</td>\n",
       "      <td>0.0</td>\n",
       "      <td>0.0</td>\n",
       "      <td>NaN</td>\n",
       "    </tr>\n",
       "    <tr>\n",
       "      <td>43912</td>\n",
       "      <td>0.0</td>\n",
       "      <td>NaN</td>\n",
       "      <td>NaN</td>\n",
       "    </tr>\n",
       "    <tr>\n",
       "      <td>43913</td>\n",
       "      <td>0.0</td>\n",
       "      <td>0.0</td>\n",
       "      <td>NaN</td>\n",
       "    </tr>\n",
       "    <tr>\n",
       "      <td>43914</td>\n",
       "      <td>0.0</td>\n",
       "      <td>0.0</td>\n",
       "      <td>NaN</td>\n",
       "    </tr>\n",
       "  </tbody>\n",
       "</table>\n",
       "<p>43915 rows × 3 columns</p>\n",
       "</div>"
      ],
      "text/plain": [
       "       nkill  nwound  ransomamt\n",
       "0        3.0    14.0        NaN\n",
       "1        4.0     3.0        NaN\n",
       "2        2.0    14.0        NaN\n",
       "3        0.0     0.0        NaN\n",
       "4       18.0     5.0        NaN\n",
       "...      ...     ...        ...\n",
       "43910   15.0     7.0        NaN\n",
       "43911    0.0     0.0        NaN\n",
       "43912    0.0     NaN        NaN\n",
       "43913    0.0     0.0        NaN\n",
       "43914    0.0     0.0        NaN\n",
       "\n",
       "[43915 rows x 3 columns]"
      ]
     },
     "execution_count": 63,
     "metadata": {},
     "output_type": "execute_result"
    }
   ],
   "source": [
    "dataset[numerical_feature]"
   ]
  },
  {
   "cell_type": "code",
   "execution_count": 57,
   "metadata": {},
   "outputs": [],
   "source": [
    "'''new_data=dataset.copy()\n",
    "from sklearn.preprocessing import LabelEncoder\n",
    "encoder=LabelEncoder()'''"
   ]
  },
  {
   "cell_type": "code",
   "execution_count": 58,
   "metadata": {},
   "outputs": [],
   "source": [
    "#new_data['iyear']=encoder.fit_transform(new_data['iyear'])"
   ]
  },
  {
   "cell_type": "code",
   "execution_count": 61,
   "metadata": {},
   "outputs": [],
   "source": [
    "#new_data.tail()"
   ]
  },
  {
   "cell_type": "code",
   "execution_count": 64,
   "metadata": {},
   "outputs": [],
   "source": [
    "for feature in numerical_feature:\n",
    "    dataset[feature].fillna(dataset[feature].median(),inplace=True)"
   ]
  },
  {
   "cell_type": "code",
   "execution_count": 67,
   "metadata": {
    "scrolled": false
   },
   "outputs": [],
   "source": [
    "#dataset.isnull().sum()"
   ]
  },
  {
   "cell_type": "code",
   "execution_count": 68,
   "metadata": {},
   "outputs": [],
   "source": [
    "from sklearn.preprocessing import LabelEncoder\n",
    "encoder=LabelEncoder()\n",
    "for feature in categorical_feature:\n",
    "    encoded=encoder.fit_transform(dataset[feature])\n",
    "    dataset[feature]=encoded"
   ]
  },
  {
   "cell_type": "code",
   "execution_count": 69,
   "metadata": {
    "scrolled": false
   },
   "outputs": [
    {
     "data": {
      "text/html": [
       "<div>\n",
       "<style scoped>\n",
       "    .dataframe tbody tr th:only-of-type {\n",
       "        vertical-align: middle;\n",
       "    }\n",
       "\n",
       "    .dataframe tbody tr th {\n",
       "        vertical-align: top;\n",
       "    }\n",
       "\n",
       "    .dataframe thead th {\n",
       "        text-align: right;\n",
       "    }\n",
       "</style>\n",
       "<table border=\"1\" class=\"dataframe\">\n",
       "  <thead>\n",
       "    <tr style=\"text-align: right;\">\n",
       "      <th></th>\n",
       "      <th>iyear</th>\n",
       "      <th>imonth</th>\n",
       "      <th>iday</th>\n",
       "      <th>country_txt</th>\n",
       "      <th>city</th>\n",
       "      <th>attacktype1_txt</th>\n",
       "      <th>targtype1_txt</th>\n",
       "      <th>corp1</th>\n",
       "      <th>target1</th>\n",
       "      <th>natlty1_txt</th>\n",
       "      <th>gname</th>\n",
       "      <th>weaptype1_txt</th>\n",
       "      <th>weapsubtype1_txt</th>\n",
       "      <th>weapdetail</th>\n",
       "      <th>nkill</th>\n",
       "      <th>nwound</th>\n",
       "      <th>propextent_txt</th>\n",
       "      <th>ransomamt</th>\n",
       "    </tr>\n",
       "  </thead>\n",
       "  <tbody>\n",
       "    <tr>\n",
       "      <td>0</td>\n",
       "      <td>2012</td>\n",
       "      <td>1</td>\n",
       "      <td>1</td>\n",
       "      <td>56</td>\n",
       "      <td>4206</td>\n",
       "      <td>0</td>\n",
       "      <td>2</td>\n",
       "      <td>4764</td>\n",
       "      <td>1084</td>\n",
       "      <td>63</td>\n",
       "      <td>0</td>\n",
       "      <td>2</td>\n",
       "      <td>6</td>\n",
       "      <td>5788</td>\n",
       "      <td>3.0</td>\n",
       "      <td>14.0</td>\n",
       "      <td>1</td>\n",
       "      <td>15860.45</td>\n",
       "    </tr>\n",
       "    <tr>\n",
       "      <td>1</td>\n",
       "      <td>2012</td>\n",
       "      <td>1</td>\n",
       "      <td>1</td>\n",
       "      <td>82</td>\n",
       "      <td>11535</td>\n",
       "      <td>2</td>\n",
       "      <td>9</td>\n",
       "      <td>2201</td>\n",
       "      <td>9799</td>\n",
       "      <td>96</td>\n",
       "      <td>4</td>\n",
       "      <td>2</td>\n",
       "      <td>10</td>\n",
       "      <td>1604</td>\n",
       "      <td>4.0</td>\n",
       "      <td>3.0</td>\n",
       "      <td>1</td>\n",
       "      <td>15860.45</td>\n",
       "    </tr>\n",
       "    <tr>\n",
       "      <td>2</td>\n",
       "      <td>2012</td>\n",
       "      <td>1</td>\n",
       "      <td>1</td>\n",
       "      <td>56</td>\n",
       "      <td>4206</td>\n",
       "      <td>0</td>\n",
       "      <td>2</td>\n",
       "      <td>7297</td>\n",
       "      <td>1084</td>\n",
       "      <td>63</td>\n",
       "      <td>0</td>\n",
       "      <td>2</td>\n",
       "      <td>6</td>\n",
       "      <td>1604</td>\n",
       "      <td>2.0</td>\n",
       "      <td>14.0</td>\n",
       "      <td>1</td>\n",
       "      <td>15860.45</td>\n",
       "    </tr>\n",
       "    <tr>\n",
       "      <td>3</td>\n",
       "      <td>2012</td>\n",
       "      <td>1</td>\n",
       "      <td>1</td>\n",
       "      <td>0</td>\n",
       "      <td>5999</td>\n",
       "      <td>2</td>\n",
       "      <td>9</td>\n",
       "      <td>5528</td>\n",
       "      <td>10957</td>\n",
       "      <td>53</td>\n",
       "      <td>2</td>\n",
       "      <td>2</td>\n",
       "      <td>24</td>\n",
       "      <td>1604</td>\n",
       "      <td>0.0</td>\n",
       "      <td>0.0</td>\n",
       "      <td>2</td>\n",
       "      <td>15860.45</td>\n",
       "    </tr>\n",
       "    <tr>\n",
       "      <td>4</td>\n",
       "      <td>2012</td>\n",
       "      <td>1</td>\n",
       "      <td>1</td>\n",
       "      <td>27</td>\n",
       "      <td>10956</td>\n",
       "      <td>3</td>\n",
       "      <td>13</td>\n",
       "      <td>5547</td>\n",
       "      <td>2402</td>\n",
       "      <td>30</td>\n",
       "      <td>4</td>\n",
       "      <td>5</td>\n",
       "      <td>0</td>\n",
       "      <td>1604</td>\n",
       "      <td>18.0</td>\n",
       "      <td>5.0</td>\n",
       "      <td>1</td>\n",
       "      <td>15860.45</td>\n",
       "    </tr>\n",
       "  </tbody>\n",
       "</table>\n",
       "</div>"
      ],
      "text/plain": [
       "   iyear  imonth  iday  country_txt   city  attacktype1_txt  targtype1_txt  \\\n",
       "0   2012       1     1           56   4206                0              2   \n",
       "1   2012       1     1           82  11535                2              9   \n",
       "2   2012       1     1           56   4206                0              2   \n",
       "3   2012       1     1            0   5999                2              9   \n",
       "4   2012       1     1           27  10956                3             13   \n",
       "\n",
       "   corp1  target1  natlty1_txt  gname  weaptype1_txt  weapsubtype1_txt  \\\n",
       "0   4764     1084           63      0              2                 6   \n",
       "1   2201     9799           96      4              2                10   \n",
       "2   7297     1084           63      0              2                 6   \n",
       "3   5528    10957           53      2              2                24   \n",
       "4   5547     2402           30      4              5                 0   \n",
       "\n",
       "   weapdetail  nkill  nwound  propextent_txt  ransomamt  \n",
       "0        5788    3.0    14.0               1   15860.45  \n",
       "1        1604    4.0     3.0               1   15860.45  \n",
       "2        1604    2.0    14.0               1   15860.45  \n",
       "3        1604    0.0     0.0               2   15860.45  \n",
       "4        1604   18.0     5.0               1   15860.45  "
      ]
     },
     "execution_count": 69,
     "metadata": {},
     "output_type": "execute_result"
    }
   ],
   "source": [
    "dataset.head()"
   ]
  },
  {
   "cell_type": "code",
   "execution_count": 1,
   "metadata": {},
   "outputs": [
    {
     "ename": "NameError",
     "evalue": "name 'dataset' is not defined",
     "output_type": "error",
     "traceback": [
      "\u001b[1;31m---------------------------------------------------------------------------\u001b[0m",
      "\u001b[1;31mNameError\u001b[0m                                 Traceback (most recent call last)",
      "\u001b[1;32m<ipython-input-1-d8aea34e89c9>\u001b[0m in \u001b[0;36m<module>\u001b[1;34m\u001b[0m\n\u001b[1;32m----> 1\u001b[1;33m \u001b[0mdataset\u001b[0m\u001b[1;33m.\u001b[0m\u001b[0mto_csv\u001b[0m\u001b[1;33m(\u001b[0m\u001b[1;34m'prepared.csv'\u001b[0m\u001b[1;33m,\u001b[0m\u001b[0mindex\u001b[0m\u001b[1;33m=\u001b[0m\u001b[1;32mFalse\u001b[0m\u001b[1;33m)\u001b[0m\u001b[1;33m\u001b[0m\u001b[1;33m\u001b[0m\u001b[0m\n\u001b[0m",
      "\u001b[1;31mNameError\u001b[0m: name 'dataset' is not defined"
     ]
    }
   ],
   "source": [
    "dataset.to_csv('prepared.csv',index=False)"
   ]
  },
  {
   "cell_type": "code",
   "execution_count": null,
   "metadata": {},
   "outputs": [],
   "source": []
  }
 ],
 "metadata": {
  "kernelspec": {
   "display_name": "Python 3",
   "language": "python",
   "name": "python3"
  },
  "language_info": {
   "codemirror_mode": {
    "name": "ipython",
    "version": 3
   },
   "file_extension": ".py",
   "mimetype": "text/x-python",
   "name": "python",
   "nbconvert_exporter": "python",
   "pygments_lexer": "ipython3",
   "version": "3.7.4"
  }
 },
 "nbformat": 4,
 "nbformat_minor": 2
}
